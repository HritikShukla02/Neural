{
 "cells": [
  {
   "cell_type": "markdown",
   "metadata": {},
   "source": [
    "## Libraries"
   ]
  },
  {
   "cell_type": "code",
   "execution_count": 1,
   "metadata": {},
   "outputs": [],
   "source": [
    "import pandas as pd\n",
    "import numpy as np\n",
    "from sklearn.model_selection import train_test_split\n",
    "from sklearn.linear_model import LogisticRegression\n",
    "import matplotlib.pyplot as plt"
   ]
  },
  {
   "cell_type": "markdown",
   "metadata": {},
   "source": [
    "## Reading Dataset"
   ]
  },
  {
   "cell_type": "code",
   "execution_count": 2,
   "metadata": {},
   "outputs": [
    {
     "name": "stdout",
     "output_type": "stream",
     "text": [
      "(21000, 12)\n"
     ]
    },
    {
     "data": {
      "text/html": [
       "<div>\n",
       "<style scoped>\n",
       "    .dataframe tbody tr th:only-of-type {\n",
       "        vertical-align: middle;\n",
       "    }\n",
       "\n",
       "    .dataframe tbody tr th {\n",
       "        vertical-align: top;\n",
       "    }\n",
       "\n",
       "    .dataframe thead th {\n",
       "        text-align: right;\n",
       "    }\n",
       "</style>\n",
       "<table border=\"1\" class=\"dataframe\">\n",
       "  <thead>\n",
       "    <tr style=\"text-align: right;\">\n",
       "      <th></th>\n",
       "      <th>fixed_acidity</th>\n",
       "      <th>volatile_acidity</th>\n",
       "      <th>citric_acid</th>\n",
       "      <th>residual_sugar</th>\n",
       "      <th>chlorides</th>\n",
       "      <th>free_sulfur_dioxide</th>\n",
       "      <th>total_sulfur_dioxide</th>\n",
       "      <th>density</th>\n",
       "      <th>pH</th>\n",
       "      <th>sulphates</th>\n",
       "      <th>alcohol</th>\n",
       "      <th>quality</th>\n",
       "    </tr>\n",
       "  </thead>\n",
       "  <tbody>\n",
       "    <tr>\n",
       "      <th>0</th>\n",
       "      <td>11.6</td>\n",
       "      <td>0.580</td>\n",
       "      <td>0.66</td>\n",
       "      <td>2.20</td>\n",
       "      <td>0.074</td>\n",
       "      <td>10.0</td>\n",
       "      <td>47.0</td>\n",
       "      <td>1.00080</td>\n",
       "      <td>3.25</td>\n",
       "      <td>0.57</td>\n",
       "      <td>9.0</td>\n",
       "      <td>3</td>\n",
       "    </tr>\n",
       "    <tr>\n",
       "      <th>1</th>\n",
       "      <td>10.4</td>\n",
       "      <td>0.610</td>\n",
       "      <td>0.49</td>\n",
       "      <td>2.10</td>\n",
       "      <td>0.200</td>\n",
       "      <td>5.0</td>\n",
       "      <td>16.0</td>\n",
       "      <td>0.99940</td>\n",
       "      <td>3.16</td>\n",
       "      <td>0.63</td>\n",
       "      <td>8.4</td>\n",
       "      <td>3</td>\n",
       "    </tr>\n",
       "    <tr>\n",
       "      <th>2</th>\n",
       "      <td>7.4</td>\n",
       "      <td>1.185</td>\n",
       "      <td>0.00</td>\n",
       "      <td>4.25</td>\n",
       "      <td>0.097</td>\n",
       "      <td>5.0</td>\n",
       "      <td>14.0</td>\n",
       "      <td>0.99660</td>\n",
       "      <td>3.63</td>\n",
       "      <td>0.54</td>\n",
       "      <td>10.7</td>\n",
       "      <td>3</td>\n",
       "    </tr>\n",
       "    <tr>\n",
       "      <th>3</th>\n",
       "      <td>10.4</td>\n",
       "      <td>0.440</td>\n",
       "      <td>0.42</td>\n",
       "      <td>1.50</td>\n",
       "      <td>0.145</td>\n",
       "      <td>34.0</td>\n",
       "      <td>48.0</td>\n",
       "      <td>0.99832</td>\n",
       "      <td>3.38</td>\n",
       "      <td>0.86</td>\n",
       "      <td>9.9</td>\n",
       "      <td>3</td>\n",
       "    </tr>\n",
       "    <tr>\n",
       "      <th>4</th>\n",
       "      <td>8.3</td>\n",
       "      <td>1.020</td>\n",
       "      <td>0.02</td>\n",
       "      <td>3.40</td>\n",
       "      <td>0.084</td>\n",
       "      <td>6.0</td>\n",
       "      <td>11.0</td>\n",
       "      <td>0.99892</td>\n",
       "      <td>3.48</td>\n",
       "      <td>0.49</td>\n",
       "      <td>11.0</td>\n",
       "      <td>3</td>\n",
       "    </tr>\n",
       "  </tbody>\n",
       "</table>\n",
       "</div>"
      ],
      "text/plain": [
       "   fixed_acidity  volatile_acidity  citric_acid  residual_sugar  chlorides  \\\n",
       "0           11.6             0.580         0.66            2.20      0.074   \n",
       "1           10.4             0.610         0.49            2.10      0.200   \n",
       "2            7.4             1.185         0.00            4.25      0.097   \n",
       "3           10.4             0.440         0.42            1.50      0.145   \n",
       "4            8.3             1.020         0.02            3.40      0.084   \n",
       "\n",
       "   free_sulfur_dioxide  total_sulfur_dioxide  density    pH  sulphates  \\\n",
       "0                 10.0                  47.0  1.00080  3.25       0.57   \n",
       "1                  5.0                  16.0  0.99940  3.16       0.63   \n",
       "2                  5.0                  14.0  0.99660  3.63       0.54   \n",
       "3                 34.0                  48.0  0.99832  3.38       0.86   \n",
       "4                  6.0                  11.0  0.99892  3.48       0.49   \n",
       "\n",
       "   alcohol  quality  \n",
       "0      9.0        3  \n",
       "1      8.4        3  \n",
       "2     10.7        3  \n",
       "3      9.9        3  \n",
       "4     11.0        3  "
      ]
     },
     "execution_count": 2,
     "metadata": {},
     "output_type": "execute_result"
    }
   ],
   "source": [
    "df = pd.read_csv('./data/wine_data.csv')\n",
    "print(df.shape)\n",
    "df.head()"
   ]
  },
  {
   "cell_type": "code",
   "execution_count": 3,
   "metadata": {},
   "outputs": [
    {
     "data": {
      "text/plain": [
       "0        0\n",
       "1        0\n",
       "2        0\n",
       "3        0\n",
       "4        0\n",
       "        ..\n",
       "20995    1\n",
       "20996    1\n",
       "20997    1\n",
       "20998    1\n",
       "20999    1\n",
       "Name: quality, Length: 21000, dtype: int64"
      ]
     },
     "execution_count": 3,
     "metadata": {},
     "output_type": "execute_result"
    }
   ],
   "source": [
    "out = df['quality'] >= 6\n",
    "out = out.astype(int)\n",
    "out"
   ]
  },
  {
   "cell_type": "code",
   "execution_count": 4,
   "metadata": {},
   "outputs": [
    {
     "data": {
      "text/plain": [
       "quality\n",
       "1    12000\n",
       "0     9000\n",
       "Name: count, dtype: int64"
      ]
     },
     "execution_count": 4,
     "metadata": {},
     "output_type": "execute_result"
    }
   ],
   "source": [
    "out.value_counts()\n"
   ]
  },
  {
   "cell_type": "code",
   "execution_count": 5,
   "metadata": {},
   "outputs": [
    {
     "data": {
      "text/html": [
       "<div>\n",
       "<style scoped>\n",
       "    .dataframe tbody tr th:only-of-type {\n",
       "        vertical-align: middle;\n",
       "    }\n",
       "\n",
       "    .dataframe tbody tr th {\n",
       "        vertical-align: top;\n",
       "    }\n",
       "\n",
       "    .dataframe thead th {\n",
       "        text-align: right;\n",
       "    }\n",
       "</style>\n",
       "<table border=\"1\" class=\"dataframe\">\n",
       "  <thead>\n",
       "    <tr style=\"text-align: right;\">\n",
       "      <th></th>\n",
       "      <th>fixed_acidity</th>\n",
       "      <th>volatile_acidity</th>\n",
       "      <th>citric_acid</th>\n",
       "      <th>residual_sugar</th>\n",
       "      <th>chlorides</th>\n",
       "      <th>free_sulfur_dioxide</th>\n",
       "      <th>total_sulfur_dioxide</th>\n",
       "      <th>density</th>\n",
       "      <th>pH</th>\n",
       "      <th>sulphates</th>\n",
       "      <th>alcohol</th>\n",
       "    </tr>\n",
       "  </thead>\n",
       "  <tbody>\n",
       "    <tr>\n",
       "      <th>0</th>\n",
       "      <td>11.6</td>\n",
       "      <td>0.580</td>\n",
       "      <td>0.66</td>\n",
       "      <td>2.20</td>\n",
       "      <td>0.074</td>\n",
       "      <td>10.0</td>\n",
       "      <td>47.0</td>\n",
       "      <td>1.00080</td>\n",
       "      <td>3.25</td>\n",
       "      <td>0.57</td>\n",
       "      <td>9.0</td>\n",
       "    </tr>\n",
       "    <tr>\n",
       "      <th>1</th>\n",
       "      <td>10.4</td>\n",
       "      <td>0.610</td>\n",
       "      <td>0.49</td>\n",
       "      <td>2.10</td>\n",
       "      <td>0.200</td>\n",
       "      <td>5.0</td>\n",
       "      <td>16.0</td>\n",
       "      <td>0.99940</td>\n",
       "      <td>3.16</td>\n",
       "      <td>0.63</td>\n",
       "      <td>8.4</td>\n",
       "    </tr>\n",
       "    <tr>\n",
       "      <th>2</th>\n",
       "      <td>7.4</td>\n",
       "      <td>1.185</td>\n",
       "      <td>0.00</td>\n",
       "      <td>4.25</td>\n",
       "      <td>0.097</td>\n",
       "      <td>5.0</td>\n",
       "      <td>14.0</td>\n",
       "      <td>0.99660</td>\n",
       "      <td>3.63</td>\n",
       "      <td>0.54</td>\n",
       "      <td>10.7</td>\n",
       "    </tr>\n",
       "    <tr>\n",
       "      <th>3</th>\n",
       "      <td>10.4</td>\n",
       "      <td>0.440</td>\n",
       "      <td>0.42</td>\n",
       "      <td>1.50</td>\n",
       "      <td>0.145</td>\n",
       "      <td>34.0</td>\n",
       "      <td>48.0</td>\n",
       "      <td>0.99832</td>\n",
       "      <td>3.38</td>\n",
       "      <td>0.86</td>\n",
       "      <td>9.9</td>\n",
       "    </tr>\n",
       "    <tr>\n",
       "      <th>4</th>\n",
       "      <td>8.3</td>\n",
       "      <td>1.020</td>\n",
       "      <td>0.02</td>\n",
       "      <td>3.40</td>\n",
       "      <td>0.084</td>\n",
       "      <td>6.0</td>\n",
       "      <td>11.0</td>\n",
       "      <td>0.99892</td>\n",
       "      <td>3.48</td>\n",
       "      <td>0.49</td>\n",
       "      <td>11.0</td>\n",
       "    </tr>\n",
       "  </tbody>\n",
       "</table>\n",
       "</div>"
      ],
      "text/plain": [
       "   fixed_acidity  volatile_acidity  citric_acid  residual_sugar  chlorides  \\\n",
       "0           11.6             0.580         0.66            2.20      0.074   \n",
       "1           10.4             0.610         0.49            2.10      0.200   \n",
       "2            7.4             1.185         0.00            4.25      0.097   \n",
       "3           10.4             0.440         0.42            1.50      0.145   \n",
       "4            8.3             1.020         0.02            3.40      0.084   \n",
       "\n",
       "   free_sulfur_dioxide  total_sulfur_dioxide  density    pH  sulphates  \\\n",
       "0                 10.0                  47.0  1.00080  3.25       0.57   \n",
       "1                  5.0                  16.0  0.99940  3.16       0.63   \n",
       "2                  5.0                  14.0  0.99660  3.63       0.54   \n",
       "3                 34.0                  48.0  0.99832  3.38       0.86   \n",
       "4                  6.0                  11.0  0.99892  3.48       0.49   \n",
       "\n",
       "   alcohol  \n",
       "0      9.0  \n",
       "1      8.4  \n",
       "2     10.7  \n",
       "3      9.9  \n",
       "4     11.0  "
      ]
     },
     "execution_count": 5,
     "metadata": {},
     "output_type": "execute_result"
    }
   ],
   "source": [
    "inputs = df.drop(columns='quality')\n",
    "inputs.head()"
   ]
  },
  {
   "cell_type": "code",
   "execution_count": 6,
   "metadata": {},
   "outputs": [
    {
     "data": {
      "text/plain": [
       "array([[11.6  ,  0.58 ,  0.66 , ...,  3.25 ,  0.57 ,  9.   ],\n",
       "       [10.4  ,  0.61 ,  0.49 , ...,  3.16 ,  0.63 ,  8.4  ],\n",
       "       [ 7.4  ,  1.185,  0.   , ...,  3.63 ,  0.54 , 10.7  ],\n",
       "       ...,\n",
       "       [13.4  ,  0.46 ,  1.04 , ...,  2.89 ,  1.76 ,  9.3  ],\n",
       "       [ 6.6  ,  1.03 ,  1.09 , ...,  2.94 ,  1.54 , 12.9  ],\n",
       "       [ 9.3  ,  0.93 ,  1.32 , ...,  3.16 ,  1.42 , 13.   ]],\n",
       "      shape=(21000, 11))"
      ]
     },
     "execution_count": 6,
     "metadata": {},
     "output_type": "execute_result"
    }
   ],
   "source": [
    "inputs = inputs.to_numpy()\n",
    "inputs"
   ]
  },
  {
   "cell_type": "code",
   "execution_count": 7,
   "metadata": {},
   "outputs": [],
   "source": [
    "out = out.to_numpy()"
   ]
  },
  {
   "cell_type": "code",
   "execution_count": 8,
   "metadata": {},
   "outputs": [
    {
     "data": {
      "text/plain": [
       "(21000,)"
      ]
     },
     "execution_count": 8,
     "metadata": {},
     "output_type": "execute_result"
    }
   ],
   "source": [
    "out.shape"
   ]
  },
  {
   "cell_type": "code",
   "execution_count": 9,
   "metadata": {},
   "outputs": [
    {
     "name": "stdout",
     "output_type": "stream",
     "text": [
      "x train: (16800, 11)\n",
      "x test: (2100, 11)\n",
      "y train: (16800,)\n",
      "y test: (2100,)\n",
      "x dev: (2100, 11)\n",
      "y dev: (2100,)\n"
     ]
    }
   ],
   "source": [
    "x_train, x_test, y_train, y_test = train_test_split(inputs, out, test_size=0.2, random_state=42)\n",
    "x_test, x_dev, y_test, y_dev = train_test_split(x_test, y_test, test_size=0.5, random_state=42)\n",
    "print(f'x train: {x_train.shape}')\n",
    "print(f'x test: {x_test.shape}')\n",
    "print(f'y train: {y_train.shape}')\n",
    "print(f'y test: {y_test.shape}')\n",
    "print(f'x dev: {x_dev.shape}')\n",
    "print(f'y dev: {y_dev.shape}')\n"
   ]
  },
  {
   "cell_type": "code",
   "execution_count": 10,
   "metadata": {},
   "outputs": [],
   "source": [
    "ones = np.where(y_train == 1)\n",
    "zeros = np.where(y_train == 0)\n"
   ]
  },
  {
   "cell_type": "code",
   "execution_count": 11,
   "metadata": {},
   "outputs": [
    {
     "data": {
      "text/plain": [
       "(9614,)"
      ]
     },
     "execution_count": 11,
     "metadata": {},
     "output_type": "execute_result"
    }
   ],
   "source": [
    "ones[0].shape"
   ]
  },
  {
   "cell_type": "code",
   "execution_count": 12,
   "metadata": {},
   "outputs": [
    {
     "data": {
      "text/plain": [
       "array([14819,  7529, 14070, ..., 16794, 16797, 16798], shape=(14372,))"
      ]
     },
     "execution_count": 12,
     "metadata": {},
     "output_type": "execute_result"
    }
   ],
   "source": [
    "ones_i = np.random.choice(ones[0], 7186, replace=False)\n",
    "indices = np.concatenate((ones_i, zeros[0]))\n",
    "indices\n"
   ]
  },
  {
   "cell_type": "code",
   "execution_count": 13,
   "metadata": {},
   "outputs": [
    {
     "data": {
      "text/plain": [
       "(14372, 11)"
      ]
     },
     "execution_count": 13,
     "metadata": {},
     "output_type": "execute_result"
    }
   ],
   "source": [
    "x_train = x_train[indices,:]\n",
    "x_train.shape"
   ]
  },
  {
   "cell_type": "code",
   "execution_count": 14,
   "metadata": {},
   "outputs": [
    {
     "data": {
      "text/plain": [
       "(14372,)"
      ]
     },
     "execution_count": 14,
     "metadata": {},
     "output_type": "execute_result"
    }
   ],
   "source": [
    "y_train = y_train[indices]\n",
    "y_train.shape"
   ]
  },
  {
   "cell_type": "code",
   "execution_count": 15,
   "metadata": {},
   "outputs": [
    {
     "data": {
      "text/plain": [
       "(14372, 12)"
      ]
     },
     "execution_count": 15,
     "metadata": {},
     "output_type": "execute_result"
    }
   ],
   "source": [
    "data = np.concatenate((x_train, y_train.reshape(-1, 1)), axis=1)\n",
    "data.shape"
   ]
  },
  {
   "cell_type": "code",
   "execution_count": 16,
   "metadata": {},
   "outputs": [
    {
     "data": {
      "text/plain": [
       "(14372, 12)"
      ]
     },
     "execution_count": 16,
     "metadata": {},
     "output_type": "execute_result"
    }
   ],
   "source": [
    "\n",
    "np.random.shuffle(data)\n",
    "data.shape"
   ]
  },
  {
   "cell_type": "code",
   "execution_count": 17,
   "metadata": {},
   "outputs": [],
   "source": [
    "x_train = data[:, :-1]\n",
    "y_train = data[:, -1]"
   ]
  },
  {
   "cell_type": "code",
   "execution_count": 18,
   "metadata": {},
   "outputs": [
    {
     "data": {
      "text/plain": [
       "(14372,)"
      ]
     },
     "execution_count": 18,
     "metadata": {},
     "output_type": "execute_result"
    }
   ],
   "source": [
    "y_train.shape"
   ]
  },
  {
   "cell_type": "markdown",
   "metadata": {},
   "source": [
    "## normalizing inputs"
   ]
  },
  {
   "cell_type": "code",
   "execution_count": 19,
   "metadata": {},
   "outputs": [
    {
     "name": "stdout",
     "output_type": "stream",
     "text": [
      "(14372, 11)\n",
      "(2100, 11)\n",
      "(2100, 11)\n"
     ]
    }
   ],
   "source": [
    "mean = x_train.mean(axis=0)\n",
    "std = x_train.std(axis=0)\n",
    "\n",
    "x_train_normalized = (x_train - mean)/std\n",
    "x_test_normalized = (x_test - mean)/std\n",
    "x_dev_normalized = (x_dev - mean)/std\n",
    "\n",
    "\n",
    "# since we store each example as a column so lets take the transposes\n",
    "# x_train_normalized = x_train_normalized.T\n",
    "# y_train = y_train.T\n",
    "print(x_train_normalized.shape)\n",
    "\n",
    "# x_dev_normalized = x_dev_normalized.T\n",
    "# y_dev = y_dev.T\n",
    "print(x_dev_normalized.shape)\n",
    "\n",
    "# x_test_normalized = x_test_normalized.T\n",
    "# y_test = y_test.T\n",
    "print(x_test_normalized.shape)\n"
   ]
  },
  {
   "cell_type": "code",
   "execution_count": 20,
   "metadata": {},
   "outputs": [
    {
     "data": {
      "text/html": [
       "<style>#sk-container-id-1 {\n",
       "  /* Definition of color scheme common for light and dark mode */\n",
       "  --sklearn-color-text: #000;\n",
       "  --sklearn-color-text-muted: #666;\n",
       "  --sklearn-color-line: gray;\n",
       "  /* Definition of color scheme for unfitted estimators */\n",
       "  --sklearn-color-unfitted-level-0: #fff5e6;\n",
       "  --sklearn-color-unfitted-level-1: #f6e4d2;\n",
       "  --sklearn-color-unfitted-level-2: #ffe0b3;\n",
       "  --sklearn-color-unfitted-level-3: chocolate;\n",
       "  /* Definition of color scheme for fitted estimators */\n",
       "  --sklearn-color-fitted-level-0: #f0f8ff;\n",
       "  --sklearn-color-fitted-level-1: #d4ebff;\n",
       "  --sklearn-color-fitted-level-2: #b3dbfd;\n",
       "  --sklearn-color-fitted-level-3: cornflowerblue;\n",
       "\n",
       "  /* Specific color for light theme */\n",
       "  --sklearn-color-text-on-default-background: var(--sg-text-color, var(--theme-code-foreground, var(--jp-content-font-color1, black)));\n",
       "  --sklearn-color-background: var(--sg-background-color, var(--theme-background, var(--jp-layout-color0, white)));\n",
       "  --sklearn-color-border-box: var(--sg-text-color, var(--theme-code-foreground, var(--jp-content-font-color1, black)));\n",
       "  --sklearn-color-icon: #696969;\n",
       "\n",
       "  @media (prefers-color-scheme: dark) {\n",
       "    /* Redefinition of color scheme for dark theme */\n",
       "    --sklearn-color-text-on-default-background: var(--sg-text-color, var(--theme-code-foreground, var(--jp-content-font-color1, white)));\n",
       "    --sklearn-color-background: var(--sg-background-color, var(--theme-background, var(--jp-layout-color0, #111)));\n",
       "    --sklearn-color-border-box: var(--sg-text-color, var(--theme-code-foreground, var(--jp-content-font-color1, white)));\n",
       "    --sklearn-color-icon: #878787;\n",
       "  }\n",
       "}\n",
       "\n",
       "#sk-container-id-1 {\n",
       "  color: var(--sklearn-color-text);\n",
       "}\n",
       "\n",
       "#sk-container-id-1 pre {\n",
       "  padding: 0;\n",
       "}\n",
       "\n",
       "#sk-container-id-1 input.sk-hidden--visually {\n",
       "  border: 0;\n",
       "  clip: rect(1px 1px 1px 1px);\n",
       "  clip: rect(1px, 1px, 1px, 1px);\n",
       "  height: 1px;\n",
       "  margin: -1px;\n",
       "  overflow: hidden;\n",
       "  padding: 0;\n",
       "  position: absolute;\n",
       "  width: 1px;\n",
       "}\n",
       "\n",
       "#sk-container-id-1 div.sk-dashed-wrapped {\n",
       "  border: 1px dashed var(--sklearn-color-line);\n",
       "  margin: 0 0.4em 0.5em 0.4em;\n",
       "  box-sizing: border-box;\n",
       "  padding-bottom: 0.4em;\n",
       "  background-color: var(--sklearn-color-background);\n",
       "}\n",
       "\n",
       "#sk-container-id-1 div.sk-container {\n",
       "  /* jupyter's `normalize.less` sets `[hidden] { display: none; }`\n",
       "     but bootstrap.min.css set `[hidden] { display: none !important; }`\n",
       "     so we also need the `!important` here to be able to override the\n",
       "     default hidden behavior on the sphinx rendered scikit-learn.org.\n",
       "     See: https://github.com/scikit-learn/scikit-learn/issues/21755 */\n",
       "  display: inline-block !important;\n",
       "  position: relative;\n",
       "}\n",
       "\n",
       "#sk-container-id-1 div.sk-text-repr-fallback {\n",
       "  display: none;\n",
       "}\n",
       "\n",
       "div.sk-parallel-item,\n",
       "div.sk-serial,\n",
       "div.sk-item {\n",
       "  /* draw centered vertical line to link estimators */\n",
       "  background-image: linear-gradient(var(--sklearn-color-text-on-default-background), var(--sklearn-color-text-on-default-background));\n",
       "  background-size: 2px 100%;\n",
       "  background-repeat: no-repeat;\n",
       "  background-position: center center;\n",
       "}\n",
       "\n",
       "/* Parallel-specific style estimator block */\n",
       "\n",
       "#sk-container-id-1 div.sk-parallel-item::after {\n",
       "  content: \"\";\n",
       "  width: 100%;\n",
       "  border-bottom: 2px solid var(--sklearn-color-text-on-default-background);\n",
       "  flex-grow: 1;\n",
       "}\n",
       "\n",
       "#sk-container-id-1 div.sk-parallel {\n",
       "  display: flex;\n",
       "  align-items: stretch;\n",
       "  justify-content: center;\n",
       "  background-color: var(--sklearn-color-background);\n",
       "  position: relative;\n",
       "}\n",
       "\n",
       "#sk-container-id-1 div.sk-parallel-item {\n",
       "  display: flex;\n",
       "  flex-direction: column;\n",
       "}\n",
       "\n",
       "#sk-container-id-1 div.sk-parallel-item:first-child::after {\n",
       "  align-self: flex-end;\n",
       "  width: 50%;\n",
       "}\n",
       "\n",
       "#sk-container-id-1 div.sk-parallel-item:last-child::after {\n",
       "  align-self: flex-start;\n",
       "  width: 50%;\n",
       "}\n",
       "\n",
       "#sk-container-id-1 div.sk-parallel-item:only-child::after {\n",
       "  width: 0;\n",
       "}\n",
       "\n",
       "/* Serial-specific style estimator block */\n",
       "\n",
       "#sk-container-id-1 div.sk-serial {\n",
       "  display: flex;\n",
       "  flex-direction: column;\n",
       "  align-items: center;\n",
       "  background-color: var(--sklearn-color-background);\n",
       "  padding-right: 1em;\n",
       "  padding-left: 1em;\n",
       "}\n",
       "\n",
       "\n",
       "/* Toggleable style: style used for estimator/Pipeline/ColumnTransformer box that is\n",
       "clickable and can be expanded/collapsed.\n",
       "- Pipeline and ColumnTransformer use this feature and define the default style\n",
       "- Estimators will overwrite some part of the style using the `sk-estimator` class\n",
       "*/\n",
       "\n",
       "/* Pipeline and ColumnTransformer style (default) */\n",
       "\n",
       "#sk-container-id-1 div.sk-toggleable {\n",
       "  /* Default theme specific background. It is overwritten whether we have a\n",
       "  specific estimator or a Pipeline/ColumnTransformer */\n",
       "  background-color: var(--sklearn-color-background);\n",
       "}\n",
       "\n",
       "/* Toggleable label */\n",
       "#sk-container-id-1 label.sk-toggleable__label {\n",
       "  cursor: pointer;\n",
       "  display: flex;\n",
       "  width: 100%;\n",
       "  margin-bottom: 0;\n",
       "  padding: 0.5em;\n",
       "  box-sizing: border-box;\n",
       "  text-align: center;\n",
       "  align-items: start;\n",
       "  justify-content: space-between;\n",
       "  gap: 0.5em;\n",
       "}\n",
       "\n",
       "#sk-container-id-1 label.sk-toggleable__label .caption {\n",
       "  font-size: 0.6rem;\n",
       "  font-weight: lighter;\n",
       "  color: var(--sklearn-color-text-muted);\n",
       "}\n",
       "\n",
       "#sk-container-id-1 label.sk-toggleable__label-arrow:before {\n",
       "  /* Arrow on the left of the label */\n",
       "  content: \"▸\";\n",
       "  float: left;\n",
       "  margin-right: 0.25em;\n",
       "  color: var(--sklearn-color-icon);\n",
       "}\n",
       "\n",
       "#sk-container-id-1 label.sk-toggleable__label-arrow:hover:before {\n",
       "  color: var(--sklearn-color-text);\n",
       "}\n",
       "\n",
       "/* Toggleable content - dropdown */\n",
       "\n",
       "#sk-container-id-1 div.sk-toggleable__content {\n",
       "  max-height: 0;\n",
       "  max-width: 0;\n",
       "  overflow: hidden;\n",
       "  text-align: left;\n",
       "  /* unfitted */\n",
       "  background-color: var(--sklearn-color-unfitted-level-0);\n",
       "}\n",
       "\n",
       "#sk-container-id-1 div.sk-toggleable__content.fitted {\n",
       "  /* fitted */\n",
       "  background-color: var(--sklearn-color-fitted-level-0);\n",
       "}\n",
       "\n",
       "#sk-container-id-1 div.sk-toggleable__content pre {\n",
       "  margin: 0.2em;\n",
       "  border-radius: 0.25em;\n",
       "  color: var(--sklearn-color-text);\n",
       "  /* unfitted */\n",
       "  background-color: var(--sklearn-color-unfitted-level-0);\n",
       "}\n",
       "\n",
       "#sk-container-id-1 div.sk-toggleable__content.fitted pre {\n",
       "  /* unfitted */\n",
       "  background-color: var(--sklearn-color-fitted-level-0);\n",
       "}\n",
       "\n",
       "#sk-container-id-1 input.sk-toggleable__control:checked~div.sk-toggleable__content {\n",
       "  /* Expand drop-down */\n",
       "  max-height: 200px;\n",
       "  max-width: 100%;\n",
       "  overflow: auto;\n",
       "}\n",
       "\n",
       "#sk-container-id-1 input.sk-toggleable__control:checked~label.sk-toggleable__label-arrow:before {\n",
       "  content: \"▾\";\n",
       "}\n",
       "\n",
       "/* Pipeline/ColumnTransformer-specific style */\n",
       "\n",
       "#sk-container-id-1 div.sk-label input.sk-toggleable__control:checked~label.sk-toggleable__label {\n",
       "  color: var(--sklearn-color-text);\n",
       "  background-color: var(--sklearn-color-unfitted-level-2);\n",
       "}\n",
       "\n",
       "#sk-container-id-1 div.sk-label.fitted input.sk-toggleable__control:checked~label.sk-toggleable__label {\n",
       "  background-color: var(--sklearn-color-fitted-level-2);\n",
       "}\n",
       "\n",
       "/* Estimator-specific style */\n",
       "\n",
       "/* Colorize estimator box */\n",
       "#sk-container-id-1 div.sk-estimator input.sk-toggleable__control:checked~label.sk-toggleable__label {\n",
       "  /* unfitted */\n",
       "  background-color: var(--sklearn-color-unfitted-level-2);\n",
       "}\n",
       "\n",
       "#sk-container-id-1 div.sk-estimator.fitted input.sk-toggleable__control:checked~label.sk-toggleable__label {\n",
       "  /* fitted */\n",
       "  background-color: var(--sklearn-color-fitted-level-2);\n",
       "}\n",
       "\n",
       "#sk-container-id-1 div.sk-label label.sk-toggleable__label,\n",
       "#sk-container-id-1 div.sk-label label {\n",
       "  /* The background is the default theme color */\n",
       "  color: var(--sklearn-color-text-on-default-background);\n",
       "}\n",
       "\n",
       "/* On hover, darken the color of the background */\n",
       "#sk-container-id-1 div.sk-label:hover label.sk-toggleable__label {\n",
       "  color: var(--sklearn-color-text);\n",
       "  background-color: var(--sklearn-color-unfitted-level-2);\n",
       "}\n",
       "\n",
       "/* Label box, darken color on hover, fitted */\n",
       "#sk-container-id-1 div.sk-label.fitted:hover label.sk-toggleable__label.fitted {\n",
       "  color: var(--sklearn-color-text);\n",
       "  background-color: var(--sklearn-color-fitted-level-2);\n",
       "}\n",
       "\n",
       "/* Estimator label */\n",
       "\n",
       "#sk-container-id-1 div.sk-label label {\n",
       "  font-family: monospace;\n",
       "  font-weight: bold;\n",
       "  display: inline-block;\n",
       "  line-height: 1.2em;\n",
       "}\n",
       "\n",
       "#sk-container-id-1 div.sk-label-container {\n",
       "  text-align: center;\n",
       "}\n",
       "\n",
       "/* Estimator-specific */\n",
       "#sk-container-id-1 div.sk-estimator {\n",
       "  font-family: monospace;\n",
       "  border: 1px dotted var(--sklearn-color-border-box);\n",
       "  border-radius: 0.25em;\n",
       "  box-sizing: border-box;\n",
       "  margin-bottom: 0.5em;\n",
       "  /* unfitted */\n",
       "  background-color: var(--sklearn-color-unfitted-level-0);\n",
       "}\n",
       "\n",
       "#sk-container-id-1 div.sk-estimator.fitted {\n",
       "  /* fitted */\n",
       "  background-color: var(--sklearn-color-fitted-level-0);\n",
       "}\n",
       "\n",
       "/* on hover */\n",
       "#sk-container-id-1 div.sk-estimator:hover {\n",
       "  /* unfitted */\n",
       "  background-color: var(--sklearn-color-unfitted-level-2);\n",
       "}\n",
       "\n",
       "#sk-container-id-1 div.sk-estimator.fitted:hover {\n",
       "  /* fitted */\n",
       "  background-color: var(--sklearn-color-fitted-level-2);\n",
       "}\n",
       "\n",
       "/* Specification for estimator info (e.g. \"i\" and \"?\") */\n",
       "\n",
       "/* Common style for \"i\" and \"?\" */\n",
       "\n",
       ".sk-estimator-doc-link,\n",
       "a:link.sk-estimator-doc-link,\n",
       "a:visited.sk-estimator-doc-link {\n",
       "  float: right;\n",
       "  font-size: smaller;\n",
       "  line-height: 1em;\n",
       "  font-family: monospace;\n",
       "  background-color: var(--sklearn-color-background);\n",
       "  border-radius: 1em;\n",
       "  height: 1em;\n",
       "  width: 1em;\n",
       "  text-decoration: none !important;\n",
       "  margin-left: 0.5em;\n",
       "  text-align: center;\n",
       "  /* unfitted */\n",
       "  border: var(--sklearn-color-unfitted-level-1) 1pt solid;\n",
       "  color: var(--sklearn-color-unfitted-level-1);\n",
       "}\n",
       "\n",
       ".sk-estimator-doc-link.fitted,\n",
       "a:link.sk-estimator-doc-link.fitted,\n",
       "a:visited.sk-estimator-doc-link.fitted {\n",
       "  /* fitted */\n",
       "  border: var(--sklearn-color-fitted-level-1) 1pt solid;\n",
       "  color: var(--sklearn-color-fitted-level-1);\n",
       "}\n",
       "\n",
       "/* On hover */\n",
       "div.sk-estimator:hover .sk-estimator-doc-link:hover,\n",
       ".sk-estimator-doc-link:hover,\n",
       "div.sk-label-container:hover .sk-estimator-doc-link:hover,\n",
       ".sk-estimator-doc-link:hover {\n",
       "  /* unfitted */\n",
       "  background-color: var(--sklearn-color-unfitted-level-3);\n",
       "  color: var(--sklearn-color-background);\n",
       "  text-decoration: none;\n",
       "}\n",
       "\n",
       "div.sk-estimator.fitted:hover .sk-estimator-doc-link.fitted:hover,\n",
       ".sk-estimator-doc-link.fitted:hover,\n",
       "div.sk-label-container:hover .sk-estimator-doc-link.fitted:hover,\n",
       ".sk-estimator-doc-link.fitted:hover {\n",
       "  /* fitted */\n",
       "  background-color: var(--sklearn-color-fitted-level-3);\n",
       "  color: var(--sklearn-color-background);\n",
       "  text-decoration: none;\n",
       "}\n",
       "\n",
       "/* Span, style for the box shown on hovering the info icon */\n",
       ".sk-estimator-doc-link span {\n",
       "  display: none;\n",
       "  z-index: 9999;\n",
       "  position: relative;\n",
       "  font-weight: normal;\n",
       "  right: .2ex;\n",
       "  padding: .5ex;\n",
       "  margin: .5ex;\n",
       "  width: min-content;\n",
       "  min-width: 20ex;\n",
       "  max-width: 50ex;\n",
       "  color: var(--sklearn-color-text);\n",
       "  box-shadow: 2pt 2pt 4pt #999;\n",
       "  /* unfitted */\n",
       "  background: var(--sklearn-color-unfitted-level-0);\n",
       "  border: .5pt solid var(--sklearn-color-unfitted-level-3);\n",
       "}\n",
       "\n",
       ".sk-estimator-doc-link.fitted span {\n",
       "  /* fitted */\n",
       "  background: var(--sklearn-color-fitted-level-0);\n",
       "  border: var(--sklearn-color-fitted-level-3);\n",
       "}\n",
       "\n",
       ".sk-estimator-doc-link:hover span {\n",
       "  display: block;\n",
       "}\n",
       "\n",
       "/* \"?\"-specific style due to the `<a>` HTML tag */\n",
       "\n",
       "#sk-container-id-1 a.estimator_doc_link {\n",
       "  float: right;\n",
       "  font-size: 1rem;\n",
       "  line-height: 1em;\n",
       "  font-family: monospace;\n",
       "  background-color: var(--sklearn-color-background);\n",
       "  border-radius: 1rem;\n",
       "  height: 1rem;\n",
       "  width: 1rem;\n",
       "  text-decoration: none;\n",
       "  /* unfitted */\n",
       "  color: var(--sklearn-color-unfitted-level-1);\n",
       "  border: var(--sklearn-color-unfitted-level-1) 1pt solid;\n",
       "}\n",
       "\n",
       "#sk-container-id-1 a.estimator_doc_link.fitted {\n",
       "  /* fitted */\n",
       "  border: var(--sklearn-color-fitted-level-1) 1pt solid;\n",
       "  color: var(--sklearn-color-fitted-level-1);\n",
       "}\n",
       "\n",
       "/* On hover */\n",
       "#sk-container-id-1 a.estimator_doc_link:hover {\n",
       "  /* unfitted */\n",
       "  background-color: var(--sklearn-color-unfitted-level-3);\n",
       "  color: var(--sklearn-color-background);\n",
       "  text-decoration: none;\n",
       "}\n",
       "\n",
       "#sk-container-id-1 a.estimator_doc_link.fitted:hover {\n",
       "  /* fitted */\n",
       "  background-color: var(--sklearn-color-fitted-level-3);\n",
       "}\n",
       "</style><div id=\"sk-container-id-1\" class=\"sk-top-container\"><div class=\"sk-text-repr-fallback\"><pre>LogisticRegression()</pre><b>In a Jupyter environment, please rerun this cell to show the HTML representation or trust the notebook. <br />On GitHub, the HTML representation is unable to render, please try loading this page with nbviewer.org.</b></div><div class=\"sk-container\" hidden><div class=\"sk-item\"><div class=\"sk-estimator fitted sk-toggleable\"><input class=\"sk-toggleable__control sk-hidden--visually\" id=\"sk-estimator-id-1\" type=\"checkbox\" checked><label for=\"sk-estimator-id-1\" class=\"sk-toggleable__label fitted sk-toggleable__label-arrow\"><div><div>LogisticRegression</div></div><div><a class=\"sk-estimator-doc-link fitted\" rel=\"noreferrer\" target=\"_blank\" href=\"https://scikit-learn.org/1.6/modules/generated/sklearn.linear_model.LogisticRegression.html\">?<span>Documentation for LogisticRegression</span></a><span class=\"sk-estimator-doc-link fitted\">i<span>Fitted</span></span></div></label><div class=\"sk-toggleable__content fitted\"><pre>LogisticRegression()</pre></div> </div></div></div></div>"
      ],
      "text/plain": [
       "LogisticRegression()"
      ]
     },
     "execution_count": 20,
     "metadata": {},
     "output_type": "execute_result"
    }
   ],
   "source": [
    "model = LogisticRegression()\n",
    "model.fit(x_train_normalized, y_train)"
   ]
  },
  {
   "cell_type": "code",
   "execution_count": 21,
   "metadata": {},
   "outputs": [
    {
     "data": {
      "text/plain": [
       "0.5680489841358196"
      ]
     },
     "execution_count": 21,
     "metadata": {},
     "output_type": "execute_result"
    }
   ],
   "source": [
    "model.score(x_train_normalized, y_train)"
   ]
  },
  {
   "cell_type": "code",
   "execution_count": 22,
   "metadata": {},
   "outputs": [
    {
     "data": {
      "text/plain": [
       "array([0., 1., 1., ..., 1., 0., 0.], shape=(2100,))"
      ]
     },
     "execution_count": 22,
     "metadata": {},
     "output_type": "execute_result"
    }
   ],
   "source": [
    "model.predict(x_test_normalized)"
   ]
  },
  {
   "cell_type": "code",
   "execution_count": 23,
   "metadata": {},
   "outputs": [
    {
     "data": {
      "text/plain": [
       "np.float64(56.61904761904763)"
      ]
     },
     "execution_count": 23,
     "metadata": {},
     "output_type": "execute_result"
    }
   ],
   "source": [
    "pred = model.predict(x_test_normalized)\n",
    "\n",
    "total = np.sum(pred == y_test)\n",
    "eval_percentage = total/len(y_test)*100\n",
    "eval_percentage"
   ]
  },
  {
   "cell_type": "code",
   "execution_count": 24,
   "metadata": {},
   "outputs": [],
   "source": [
    "y_train = y_train.reshape(1,-1)\n",
    "y_dev = y_dev.reshape(1,-1)\n",
    "y_test = y_test.reshape(1,-1)\n",
    "\n",
    "x_train_normalized = x_train_normalized.T\n",
    "x_dev_normalized = x_dev_normalized.T\n",
    "x_test_normalized = x_test_normalized.T"
   ]
  },
  {
   "cell_type": "code",
   "execution_count": 25,
   "metadata": {},
   "outputs": [],
   "source": [
    "from neural import Neural"
   ]
  },
  {
   "cell_type": "code",
   "execution_count": 26,
   "metadata": {},
   "outputs": [],
   "source": [
    "# input_size = x_test_normalized.shape[0]\n",
    "# classifier1 = Neural(layers_sizes=[2, 3, 3, 1], input_size=input_size, activations=['Leaky-ReLU', 'Leaky-ReLU', 'Leaky-ReLU', 'sigmoid'], cost='CCE')\n",
    "# classifier2 = Neural(layers_sizes=[3, 2, 1], input_size=input_size, activations=['Leaky-ReLU', 'Leaky-ReLU', 'sigmoid'], cost='CCE')\n",
    "# classifier3 = Neural(layers_sizes=[2, 5, 5, 1], activations=['Leaky-ReLU', 'Leaky-ReLU', 'Leaky-ReLU', 'sigmoid'], cost='CCE')\n",
    "\n",
    "# models = [classifier1, classifier2, classifier3]"
   ]
  },
  {
   "cell_type": "code",
   "execution_count": 27,
   "metadata": {},
   "outputs": [],
   "source": [
    "# cost_hist = []\n",
    "# dev_cost_hist = []\n",
    "# dev_acc_hist = []\n",
    "# train_acc_hist = []\n",
    "# for model in models:\n",
    "#     J_hist, dev_hist, train_eval_hist, dev_eval_hist = model.train(X_train=x_train_normalized, Y_train=y_train, X_dev=x_dev_normalized, Y_dev=y_dev,  epoch=50000, learning_rate=0.01, reg_lambda=3)\n",
    "#     cost_hist.append(J_hist)\n",
    "#     dev_cost_hist.append(dev_hist)\n",
    "#     train_acc_hist.append(train_eval_hist)\n",
    "#     dev_acc_hist.append(dev_eval_hist)\n",
    "\n"
   ]
  },
  {
   "cell_type": "code",
   "execution_count": 28,
   "metadata": {},
   "outputs": [],
   "source": [
    "# for i in range(3):\n",
    "#     j = cost_hist[i]\n",
    "#     d = dev_cost_hist[i]\n",
    "#     plt.plot(np.arange(50000), j)\n",
    "#     plt.plot(np.arange(50000), d)\n",
    "\n",
    "#     plt.show()\n"
   ]
  },
  {
   "cell_type": "code",
   "execution_count": 29,
   "metadata": {},
   "outputs": [],
   "source": [
    "# for model in models:\n",
    "#     pred = model.predict(x_test_normalized)\n",
    "#     print(pred)\n"
   ]
  },
  {
   "cell_type": "code",
   "execution_count": 30,
   "metadata": {},
   "outputs": [],
   "source": [
    "# y_test"
   ]
  },
  {
   "cell_type": "code",
   "execution_count": 31,
   "metadata": {},
   "outputs": [],
   "source": [
    "# np.arange(y_test.shape[1]).reshape(1,-1)"
   ]
  },
  {
   "cell_type": "code",
   "execution_count": 32,
   "metadata": {},
   "outputs": [],
   "source": [
    "# m = x_test_normalized.shape[0]\n",
    "# # for i in range(m):\n",
    "# for mod in models:\n",
    "#     pred = mod.predict(x_test_normalized)\n",
    "#     plt.scatter(np.arange(y_test.shape[1])[:100],y_test[:,:100], alpha=0.7 )\n",
    "#     plt.scatter(np.arange(y_test.shape[1])[:100],pred[:,:100], color= 'red' , alpha=0.3)\n",
    "\n",
    "#     plt.show()"
   ]
  },
  {
   "cell_type": "code",
   "execution_count": 33,
   "metadata": {},
   "outputs": [],
   "source": [
    "# cost_hist = []\n",
    "# dev_cost_hist = []\n",
    "# dev_acc_hist = []\n",
    "# train_acc_hist = []\n",
    "# reg_lam = [1,3,5,7,10]\n",
    "# model = classifier1\n",
    "# ,\n",
    "# for lam in reg_lam:\n",
    "#     J_hist, dev_hist, train_eval_hist, dev_eval_hist = model.train(X_train=x_train_normalized, Y_train=y_train, X_dev=x_dev_normalized, Y_dev=y_dev,  epoch=25000, learning_rate=0.05, reg_lambda=lam)\n",
    "#     cost_hist.append(J_hist)\n",
    "#     dev_cost_hist.append(dev_hist)\n",
    "#     train_acc_hist.append(train_eval_hist)\n",
    "#     dev_acc_hist.append(dev_eval_hist)"
   ]
  },
  {
   "cell_type": "code",
   "execution_count": 34,
   "metadata": {},
   "outputs": [],
   "source": [
    "# for i in range(len(reg_lam)):\n",
    "#     j = dev_acc_hist[i]\n",
    "#     d = train_acc_hist[i]\n",
    "#     plt.plot(np.arange(25000), j)\n",
    "#     plt.plot(np.arange(25000), d)\n",
    "\n",
    "#     plt.show()"
   ]
  },
  {
   "cell_type": "code",
   "execution_count": 35,
   "metadata": {},
   "outputs": [],
   "source": [
    "input_size = x_test_normalized.shape[0]\n",
    "classifier = Neural(layers_sizes=[ 20, 20, 20, 10, 5, 1], input_size=input_size, activations=['Leaky-ReLU', 'Leaky-ReLU', 'Leaky-ReLU', 'Leaky-ReLU', 'Leaky-ReLU', 'sigmoid'], cost='CCE')\n"
   ]
  },
  {
   "cell_type": "code",
   "execution_count": null,
   "metadata": {},
   "outputs": [
    {
     "name": "stdout",
     "output_type": "stream",
     "text": [
      "epoch 0: train cost 0.5729 | dev cost 0.7171 | train eval 68.8074 | dev eval 57.7619\n",
      "epoch 100: train cost 0.5991 | dev cost 0.7312 | train eval 66.3791 | dev eval 56.1429\n",
      "epoch 200: train cost 0.5948 | dev cost 0.7229 | train eval 66.9009 | dev eval 56.6190\n",
      "epoch 300: train cost 0.5907 | dev cost 0.7153 | train eval 67.4645 | dev eval 57.5238\n",
      "epoch 400: train cost 0.5897 | dev cost 0.7160 | train eval 67.4923 | dev eval 57.7143\n",
      "epoch 500: train cost 0.5912 | dev cost 0.7192 | train eval 67.4923 | dev eval 57.6190\n",
      "epoch 600: train cost 0.5876 | dev cost 0.7128 | train eval 67.8472 | dev eval 58.0476\n",
      "epoch 700: train cost 0.5864 | dev cost 0.7091 | train eval 68.1464 | dev eval 58.4762\n",
      "epoch 800: train cost 0.5884 | dev cost 0.7146 | train eval 67.8681 | dev eval 57.8095\n",
      "epoch 900: train cost 0.5839 | dev cost 0.7056 | train eval 68.5152 | dev eval 58.6190\n",
      "epoch 1000: train cost 0.5847 | dev cost 0.7079 | train eval 68.4178 | dev eval 58.7619\n",
      "epoch 1100: train cost 0.5831 | dev cost 0.7039 | train eval 68.7169 | dev eval 58.8571\n",
      "epoch 1200: train cost 0.5846 | dev cost 0.7081 | train eval 68.4804 | dev eval 58.5714\n",
      "epoch 1300: train cost 0.5860 | dev cost 0.7133 | train eval 68.0768 | dev eval 57.8095\n",
      "epoch 1400: train cost 0.5804 | dev cost 0.7001 | train eval 69.2249 | dev eval 59.3810\n",
      "epoch 1500: train cost 0.5833 | dev cost 0.7072 | train eval 68.5778 | dev eval 58.6190\n",
      "epoch 1600: train cost 0.5799 | dev cost 0.6996 | train eval 69.3362 | dev eval 59.4762\n",
      "epoch 1700: train cost 0.5797 | dev cost 0.6991 | train eval 69.3849 | dev eval 59.5238\n",
      "epoch 1800: train cost 0.5825 | dev cost 0.7052 | train eval 68.8700 | dev eval 59.0476\n",
      "epoch 1900: train cost 0.5844 | dev cost 0.7114 | train eval 68.3203 | dev eval 57.9524\n",
      "epoch 2000: train cost 0.5794 | dev cost 0.6999 | train eval 69.3919 | dev eval 59.3333\n",
      "epoch 2100: train cost 0.5850 | dev cost 0.7118 | train eval 68.2786 | dev eval 57.9524\n",
      "epoch 2200: train cost 0.5820 | dev cost 0.7080 | train eval 68.6265 | dev eval 58.8095\n",
      "epoch 2300: train cost 0.5801 | dev cost 0.7022 | train eval 69.2527 | dev eval 59.4286\n",
      "epoch 2400: train cost 0.5834 | dev cost 0.7098 | train eval 68.5708 | dev eval 58.5238\n",
      "epoch 2500: train cost 0.5797 | dev cost 0.7041 | train eval 69.0718 | dev eval 59.1429\n",
      "epoch 2600: train cost 0.5873 | dev cost 0.7198 | train eval 67.8681 | dev eval 57.5714\n",
      "epoch 2700: train cost 0.5763 | dev cost 0.6960 | train eval 69.8024 | dev eval 59.6667\n",
      "epoch 2800: train cost 0.5829 | dev cost 0.7110 | train eval 68.5917 | dev eval 58.4286\n",
      "epoch 2900: train cost 0.5790 | dev cost 0.7032 | train eval 69.2945 | dev eval 59.3810\n",
      "epoch 3000: train cost 0.5789 | dev cost 0.7043 | train eval 69.1483 | dev eval 59.1429\n",
      "epoch 3100: train cost 0.5824 | dev cost 0.7133 | train eval 68.5500 | dev eval 58.2381\n",
      "epoch 3200: train cost 0.5807 | dev cost 0.7070 | train eval 68.9257 | dev eval 58.9048\n",
      "epoch 3300: train cost 0.5763 | dev cost 0.6984 | train eval 69.7328 | dev eval 60.2857\n",
      "epoch 3400: train cost 0.5737 | dev cost 0.6935 | train eval 70.1364 | dev eval 60.2381\n",
      "epoch 3500: train cost 0.5735 | dev cost 0.6947 | train eval 69.9972 | dev eval 60.3333\n",
      "epoch 3600: train cost 0.5742 | dev cost 0.6963 | train eval 69.8928 | dev eval 60.2857\n",
      "epoch 3700: train cost 0.5738 | dev cost 0.6959 | train eval 69.8998 | dev eval 60.0952\n",
      "epoch 3800: train cost 0.5752 | dev cost 0.7007 | train eval 69.6424 | dev eval 60.0952\n",
      "epoch 3900: train cost 0.5800 | dev cost 0.7122 | train eval 68.9535 | dev eval 58.8571\n",
      "epoch 4000: train cost 0.5817 | dev cost 0.7146 | train eval 68.7239 | dev eval 58.5238\n",
      "epoch 4100: train cost 0.5826 | dev cost 0.7157 | train eval 68.7100 | dev eval 58.6667\n",
      "epoch 4200: train cost 0.5788 | dev cost 0.7075 | train eval 69.3432 | dev eval 59.4286\n",
      "epoch 4300: train cost 0.5740 | dev cost 0.6992 | train eval 69.8789 | dev eval 60.1905\n",
      "epoch 4400: train cost 0.5783 | dev cost 0.7094 | train eval 69.1692 | dev eval 59.3810\n",
      "epoch 4500: train cost 0.5798 | dev cost 0.7109 | train eval 69.0788 | dev eval 59.2381\n",
      "epoch 4600: train cost 0.5798 | dev cost 0.7113 | train eval 69.0857 | dev eval 59.1905\n",
      "epoch 4700: train cost 0.5748 | dev cost 0.7018 | train eval 69.7885 | dev eval 59.6667\n",
      "epoch 4800: train cost 0.5747 | dev cost 0.7025 | train eval 69.7467 | dev eval 59.5714\n",
      "epoch 4900: train cost 0.5706 | dev cost 0.6945 | train eval 70.2477 | dev eval 60.3333\n",
      "epoch 5000: train cost 0.5744 | dev cost 0.7036 | train eval 69.6563 | dev eval 59.6190\n",
      "epoch 5100: train cost 0.5710 | dev cost 0.6961 | train eval 70.1155 | dev eval 60.2857\n",
      "epoch 5200: train cost 0.5722 | dev cost 0.6991 | train eval 70.0181 | dev eval 59.7619\n",
      "epoch 5300: train cost 0.5738 | dev cost 0.7022 | train eval 69.7815 | dev eval 59.6190\n",
      "epoch 5400: train cost 0.5762 | dev cost 0.7065 | train eval 69.6284 | dev eval 59.4286\n",
      "epoch 5500: train cost 0.5722 | dev cost 0.6996 | train eval 70.0668 | dev eval 60.1905\n",
      "epoch 5600: train cost 0.5736 | dev cost 0.7026 | train eval 69.7189 | dev eval 59.7619\n",
      "epoch 5700: train cost 0.5767 | dev cost 0.7089 | train eval 69.4962 | dev eval 59.3810\n",
      "epoch 5800: train cost 0.5809 | dev cost 0.7190 | train eval 68.8770 | dev eval 58.4286\n",
      "epoch 5900: train cost 0.5702 | dev cost 0.7002 | train eval 70.0459 | dev eval 60.1905\n",
      "epoch 6000: train cost 0.5695 | dev cost 0.6978 | train eval 70.2825 | dev eval 60.4762\n",
      "epoch 6100: train cost 0.5695 | dev cost 0.6969 | train eval 70.3242 | dev eval 60.4762\n",
      "epoch 6200: train cost 0.5727 | dev cost 0.7032 | train eval 69.8998 | dev eval 59.9524\n",
      "epoch 6300: train cost 0.5781 | dev cost 0.7157 | train eval 69.1623 | dev eval 58.5238\n",
      "epoch 6400: train cost 0.5770 | dev cost 0.7158 | train eval 69.1762 | dev eval 58.7143\n",
      "epoch 6500: train cost 0.5685 | dev cost 0.6970 | train eval 70.4147 | dev eval 60.4286\n",
      "epoch 6600: train cost 0.5704 | dev cost 0.6999 | train eval 70.2407 | dev eval 60.3333\n",
      "epoch 6700: train cost 0.5739 | dev cost 0.7077 | train eval 69.7398 | dev eval 59.5238\n",
      "epoch 6800: train cost 0.5771 | dev cost 0.7178 | train eval 69.1970 | dev eval 58.7143\n",
      "epoch 6900: train cost 0.5679 | dev cost 0.6970 | train eval 70.4843 | dev eval 60.3810\n",
      "epoch 7000: train cost 0.5708 | dev cost 0.7021 | train eval 70.0111 | dev eval 59.9524\n",
      "epoch 7100: train cost 0.5755 | dev cost 0.7129 | train eval 69.5102 | dev eval 59.1905\n",
      "epoch 7200: train cost 0.5773 | dev cost 0.7180 | train eval 69.2388 | dev eval 58.8095\n",
      "epoch 7300: train cost 0.5755 | dev cost 0.7149 | train eval 69.4545 | dev eval 58.9524\n",
      "epoch 7400: train cost 0.5758 | dev cost 0.7168 | train eval 69.2249 | dev eval 59.0000\n",
      "epoch 7500: train cost 0.5711 | dev cost 0.7088 | train eval 69.9416 | dev eval 59.6667\n",
      "epoch 7600: train cost 0.5738 | dev cost 0.7105 | train eval 69.8372 | dev eval 59.5714\n",
      "epoch 7700: train cost 0.5741 | dev cost 0.7123 | train eval 69.7746 | dev eval 59.5714\n",
      "epoch 7800: train cost 0.5793 | dev cost 0.7237 | train eval 68.7796 | dev eval 58.2857\n",
      "epoch 7900: train cost 0.5781 | dev cost 0.7238 | train eval 68.8004 | dev eval 58.3333\n",
      "epoch 8000: train cost 0.5689 | dev cost 0.7053 | train eval 70.3034 | dev eval 59.8571\n",
      "epoch 8100: train cost 0.5654 | dev cost 0.6965 | train eval 70.7626 | dev eval 60.6190\n",
      "epoch 8200: train cost 0.5665 | dev cost 0.6983 | train eval 70.7974 | dev eval 60.4762\n",
      "epoch 8300: train cost 0.5739 | dev cost 0.7141 | train eval 69.7328 | dev eval 59.5714\n",
      "epoch 8400: train cost 0.5750 | dev cost 0.7178 | train eval 69.5937 | dev eval 59.3333\n",
      "epoch 8500: train cost 0.5698 | dev cost 0.7080 | train eval 70.0390 | dev eval 59.6667\n",
      "epoch 8600: train cost 0.5722 | dev cost 0.7114 | train eval 69.9416 | dev eval 60.2857\n",
      "epoch 8700: train cost 0.5739 | dev cost 0.7154 | train eval 69.7189 | dev eval 59.8095\n",
      "epoch 8800: train cost 0.5761 | dev cost 0.7227 | train eval 69.1692 | dev eval 59.1905\n",
      "epoch 8900: train cost 0.5722 | dev cost 0.7146 | train eval 69.7676 | dev eval 60.0000\n",
      "epoch 9000: train cost 0.5734 | dev cost 0.7161 | train eval 69.8024 | dev eval 59.8571\n",
      "epoch 9100: train cost 0.5649 | dev cost 0.7008 | train eval 70.9157 | dev eval 60.6667\n",
      "epoch 9200: train cost 0.5676 | dev cost 0.7048 | train eval 70.5539 | dev eval 60.0000\n",
      "epoch 9300: train cost 0.5732 | dev cost 0.7163 | train eval 69.7259 | dev eval 59.9048\n",
      "epoch 9400: train cost 0.5626 | dev cost 0.6964 | train eval 71.0896 | dev eval 60.7619\n",
      "epoch 9500: train cost 0.5666 | dev cost 0.7038 | train eval 70.6721 | dev eval 60.1905\n",
      "epoch 9600: train cost 0.5733 | dev cost 0.7177 | train eval 69.6354 | dev eval 59.5714\n",
      "epoch 9700: train cost 0.5709 | dev cost 0.7153 | train eval 69.7537 | dev eval 59.5238\n",
      "epoch 9800: train cost 0.5663 | dev cost 0.7054 | train eval 70.5191 | dev eval 59.8095\n",
      "epoch 9900: train cost 0.5672 | dev cost 0.7064 | train eval 70.4704 | dev eval 60.0000\n",
      "epoch 10000: train cost 0.5708 | dev cost 0.7137 | train eval 69.9416 | dev eval 60.0476\n",
      "epoch 10100: train cost 0.5624 | dev cost 0.6986 | train eval 71.1522 | dev eval 60.8571\n",
      "epoch 10200: train cost 0.5686 | dev cost 0.7098 | train eval 70.2895 | dev eval 60.0476\n",
      "epoch 10300: train cost 0.5686 | dev cost 0.7123 | train eval 70.1364 | dev eval 59.9524\n",
      "epoch 10400: train cost 0.5641 | dev cost 0.7026 | train eval 70.8183 | dev eval 60.3333\n",
      "epoch 10500: train cost 0.5626 | dev cost 0.6995 | train eval 71.0827 | dev eval 60.5714\n",
      "epoch 10600: train cost 0.5646 | dev cost 0.7038 | train eval 70.8461 | dev eval 60.2381\n",
      "epoch 10700: train cost 0.5716 | dev cost 0.7175 | train eval 69.8024 | dev eval 59.4762\n",
      "epoch 10800: train cost 0.5729 | dev cost 0.7212 | train eval 69.5032 | dev eval 59.0476\n",
      "epoch 10900: train cost 0.5653 | dev cost 0.7087 | train eval 70.4843 | dev eval 60.1429\n",
      "epoch 11000: train cost 0.5634 | dev cost 0.7032 | train eval 70.9435 | dev eval 60.5238\n",
      "epoch 11100: train cost 0.5654 | dev cost 0.7074 | train eval 70.5399 | dev eval 59.9048\n",
      "epoch 11200: train cost 0.5674 | dev cost 0.7114 | train eval 70.3451 | dev eval 59.6190\n",
      "epoch 11300: train cost 0.5688 | dev cost 0.7142 | train eval 70.1990 | dev eval 59.6667\n",
      "epoch 11400: train cost 0.5685 | dev cost 0.7139 | train eval 70.2825 | dev eval 59.6667\n",
      "epoch 11500: train cost 0.5682 | dev cost 0.7138 | train eval 70.2616 | dev eval 59.6667\n",
      "epoch 11600: train cost 0.5664 | dev cost 0.7109 | train eval 70.3382 | dev eval 59.8095\n",
      "epoch 11700: train cost 0.5665 | dev cost 0.7111 | train eval 70.4286 | dev eval 59.9524\n",
      "epoch 11800: train cost 0.5717 | dev cost 0.7207 | train eval 69.7606 | dev eval 59.3333\n",
      "epoch 11900: train cost 0.5707 | dev cost 0.7189 | train eval 69.9624 | dev eval 59.2381\n",
      "epoch 12000: train cost 0.5703 | dev cost 0.7186 | train eval 70.0181 | dev eval 59.1905\n",
      "epoch 12100: train cost 0.5697 | dev cost 0.7182 | train eval 70.0598 | dev eval 59.0952\n",
      "epoch 12200: train cost 0.5688 | dev cost 0.7169 | train eval 70.1920 | dev eval 59.2381\n",
      "epoch 12300: train cost 0.5678 | dev cost 0.7158 | train eval 70.3103 | dev eval 59.6190\n",
      "epoch 12400: train cost 0.5680 | dev cost 0.7166 | train eval 70.2895 | dev eval 59.5714\n",
      "epoch 12500: train cost 0.5717 | dev cost 0.7240 | train eval 69.6006 | dev eval 58.8095\n",
      "epoch 12600: train cost 0.5629 | dev cost 0.7094 | train eval 70.6930 | dev eval 60.2857\n",
      "epoch 12700: train cost 0.5623 | dev cost 0.7070 | train eval 70.9018 | dev eval 60.5238\n",
      "epoch 12800: train cost 0.5627 | dev cost 0.7081 | train eval 70.8113 | dev eval 60.4762\n",
      "epoch 12900: train cost 0.5657 | dev cost 0.7140 | train eval 70.4912 | dev eval 60.0476\n",
      "epoch 13000: train cost 0.5684 | dev cost 0.7191 | train eval 70.3451 | dev eval 59.3810\n",
      "epoch 13100: train cost 0.5716 | dev cost 0.7251 | train eval 69.6980 | dev eval 58.9524\n",
      "epoch 13200: train cost 0.5678 | dev cost 0.7214 | train eval 70.1225 | dev eval 59.3810\n",
      "epoch 13300: train cost 0.5663 | dev cost 0.7190 | train eval 70.2268 | dev eval 59.5238\n",
      "epoch 13400: train cost 0.5630 | dev cost 0.7131 | train eval 70.5886 | dev eval 60.3333\n",
      "epoch 13500: train cost 0.5636 | dev cost 0.7135 | train eval 70.5817 | dev eval 60.1429\n",
      "epoch 13600: train cost 0.5625 | dev cost 0.7115 | train eval 70.6095 | dev eval 60.4286\n",
      "epoch 13700: train cost 0.5626 | dev cost 0.7118 | train eval 70.6374 | dev eval 60.4286\n",
      "epoch 13800: train cost 0.5643 | dev cost 0.7150 | train eval 70.5539 | dev eval 59.9524\n",
      "epoch 13900: train cost 0.5642 | dev cost 0.7154 | train eval 70.5330 | dev eval 59.9048\n",
      "epoch 14000: train cost 0.5621 | dev cost 0.7116 | train eval 70.6095 | dev eval 60.5238\n",
      "epoch 14100: train cost 0.5592 | dev cost 0.7061 | train eval 71.0757 | dev eval 61.0476\n",
      "epoch 14200: train cost 0.5592 | dev cost 0.7068 | train eval 70.9852 | dev eval 61.0476\n",
      "epoch 14300: train cost 0.5658 | dev cost 0.7187 | train eval 70.3869 | dev eval 59.5238\n",
      "epoch 14400: train cost 0.5632 | dev cost 0.7152 | train eval 70.4912 | dev eval 60.1429\n",
      "epoch 14500: train cost 0.5617 | dev cost 0.7120 | train eval 70.6513 | dev eval 60.5714\n",
      "epoch 14600: train cost 0.5685 | dev cost 0.7248 | train eval 70.0668 | dev eval 59.0952\n",
      "epoch 14700: train cost 0.5594 | dev cost 0.7093 | train eval 70.9087 | dev eval 60.9048\n",
      "epoch 14800: train cost 0.5655 | dev cost 0.7204 | train eval 70.2895 | dev eval 59.6667\n",
      "epoch 14900: train cost 0.5611 | dev cost 0.7136 | train eval 70.6721 | dev eval 60.5714\n",
      "epoch 15000: train cost 0.5632 | dev cost 0.7161 | train eval 70.5121 | dev eval 60.2857\n",
      "epoch 15100: train cost 0.5607 | dev cost 0.7123 | train eval 70.7208 | dev eval 60.5714\n",
      "epoch 15200: train cost 0.5618 | dev cost 0.7154 | train eval 70.6026 | dev eval 60.5238\n",
      "epoch 15300: train cost 0.5620 | dev cost 0.7151 | train eval 70.5608 | dev eval 60.2857\n",
      "epoch 15400: train cost 0.5575 | dev cost 0.7067 | train eval 71.3192 | dev eval 61.0476\n",
      "epoch 15500: train cost 0.5597 | dev cost 0.7124 | train eval 70.8391 | dev eval 60.6190\n",
      "epoch 15600: train cost 0.5616 | dev cost 0.7169 | train eval 70.5469 | dev eval 60.1429\n",
      "epoch 15700: train cost 0.5657 | dev cost 0.7241 | train eval 70.2477 | dev eval 59.4762\n",
      "epoch 15800: train cost 0.5622 | dev cost 0.7170 | train eval 70.5330 | dev eval 60.0952\n"
     ]
    }
   ],
   "source": [
    "J_hist, dev_hist, train_eval_hist, dev_eval_hist = classifier.train(X_train=x_train_normalized, Y_train=y_train, X_dev=x_dev_normalized, Y_dev=y_dev,  epoch=50000, learning_rate=0.02, reg_lambda=1)\n"
   ]
  },
  {
   "cell_type": "code",
   "execution_count": null,
   "metadata": {},
   "outputs": [
    {
     "data": {
      "text/plain": [
       "np.float64(61.904761904761905)"
      ]
     },
     "execution_count": 46,
     "metadata": {},
     "output_type": "execute_result"
    }
   ],
   "source": [
    "classifier.evaluate(x_test_normalized, y_test)"
   ]
  },
  {
   "cell_type": "code",
   "execution_count": null,
   "metadata": {},
   "outputs": [
    {
     "data": {
      "image/png": "[encoded data removed]",
      "text/plain": [
       "<Figure size 640x480 with 1 Axes>"
      ]
     },
     "metadata": {},
     "output_type": "display_data"
    }
   ],
   "source": [
    "plt.plot(np.arange(100000), J_hist)\n",
    "plt.plot(np.arange(100000), dev_hist)\n",
    "\n",
    "plt.show()"
   ]
  },
  {
   "cell_type": "code",
   "execution_count": null,
   "metadata": {},
   "outputs": [],
   "source": [
    "weights = classifier.params"
   ]
  },
  {
   "cell_type": "code",
   "execution_count": null,
   "metadata": {},
   "outputs": [],
   "source": []
  }
 ],
 "metadata": {
  "kernelspec": {
   "display_name": ".venv",
   "language": "python",
   "name": "python3"
  },
  "language_info": {
   "codemirror_mode": {
    "name": "ipython",
    "version": 3
   },
   "file_extension": ".py",
   "mimetype": "text/x-python",
   "name": "python",
   "nbconvert_exporter": "python",
   "pygments_lexer": "ipython3",
   "version": "3.13.2"
  }
 },
 "nbformat": 4,
 "nbformat_minor": 2
}
