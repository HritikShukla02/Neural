{
 "cells": [
  {
   "cell_type": "markdown",
   "metadata": {},
   "source": [
    "## Libraries"
   ]
  },
  {
   "cell_type": "code",
   "execution_count": null,
   "metadata": {},
   "outputs": [],
   "source": [
    "import pandas as pd\n",
    "import numpy as np\n",
    "from sklearn.model_selection import train_test_split\n",
    "import matplotlib.pyplot as plt"
   ]
  },
  {
   "cell_type": "markdown",
   "metadata": {},
   "source": [
    "## Reading Dataset"
   ]
  },
  {
   "cell_type": "code",
   "execution_count": 2,
   "metadata": {},
   "outputs": [
    {
     "name": "stdout",
     "output_type": "stream",
     "text": [
      "(21000, 12)\n"
     ]
    },
    {
     "data": {
      "text/html": [
       "<div>\n",
       "<style scoped>\n",
       "    .dataframe tbody tr th:only-of-type {\n",
       "        vertical-align: middle;\n",
       "    }\n",
       "\n",
       "    .dataframe tbody tr th {\n",
       "        vertical-align: top;\n",
       "    }\n",
       "\n",
       "    .dataframe thead th {\n",
       "        text-align: right;\n",
       "    }\n",
       "</style>\n",
       "<table border=\"1\" class=\"dataframe\">\n",
       "  <thead>\n",
       "    <tr style=\"text-align: right;\">\n",
       "      <th></th>\n",
       "      <th>fixed_acidity</th>\n",
       "      <th>volatile_acidity</th>\n",
       "      <th>citric_acid</th>\n",
       "      <th>residual_sugar</th>\n",
       "      <th>chlorides</th>\n",
       "      <th>free_sulfur_dioxide</th>\n",
       "      <th>total_sulfur_dioxide</th>\n",
       "      <th>density</th>\n",
       "      <th>pH</th>\n",
       "      <th>sulphates</th>\n",
       "      <th>alcohol</th>\n",
       "      <th>quality</th>\n",
       "    </tr>\n",
       "  </thead>\n",
       "  <tbody>\n",
       "    <tr>\n",
       "      <th>0</th>\n",
       "      <td>11.6</td>\n",
       "      <td>0.580</td>\n",
       "      <td>0.66</td>\n",
       "      <td>2.20</td>\n",
       "      <td>0.074</td>\n",
       "      <td>10.0</td>\n",
       "      <td>47.0</td>\n",
       "      <td>1.00080</td>\n",
       "      <td>3.25</td>\n",
       "      <td>0.57</td>\n",
       "      <td>9.0</td>\n",
       "      <td>3</td>\n",
       "    </tr>\n",
       "    <tr>\n",
       "      <th>1</th>\n",
       "      <td>10.4</td>\n",
       "      <td>0.610</td>\n",
       "      <td>0.49</td>\n",
       "      <td>2.10</td>\n",
       "      <td>0.200</td>\n",
       "      <td>5.0</td>\n",
       "      <td>16.0</td>\n",
       "      <td>0.99940</td>\n",
       "      <td>3.16</td>\n",
       "      <td>0.63</td>\n",
       "      <td>8.4</td>\n",
       "      <td>3</td>\n",
       "    </tr>\n",
       "    <tr>\n",
       "      <th>2</th>\n",
       "      <td>7.4</td>\n",
       "      <td>1.185</td>\n",
       "      <td>0.00</td>\n",
       "      <td>4.25</td>\n",
       "      <td>0.097</td>\n",
       "      <td>5.0</td>\n",
       "      <td>14.0</td>\n",
       "      <td>0.99660</td>\n",
       "      <td>3.63</td>\n",
       "      <td>0.54</td>\n",
       "      <td>10.7</td>\n",
       "      <td>3</td>\n",
       "    </tr>\n",
       "    <tr>\n",
       "      <th>3</th>\n",
       "      <td>10.4</td>\n",
       "      <td>0.440</td>\n",
       "      <td>0.42</td>\n",
       "      <td>1.50</td>\n",
       "      <td>0.145</td>\n",
       "      <td>34.0</td>\n",
       "      <td>48.0</td>\n",
       "      <td>0.99832</td>\n",
       "      <td>3.38</td>\n",
       "      <td>0.86</td>\n",
       "      <td>9.9</td>\n",
       "      <td>3</td>\n",
       "    </tr>\n",
       "    <tr>\n",
       "      <th>4</th>\n",
       "      <td>8.3</td>\n",
       "      <td>1.020</td>\n",
       "      <td>0.02</td>\n",
       "      <td>3.40</td>\n",
       "      <td>0.084</td>\n",
       "      <td>6.0</td>\n",
       "      <td>11.0</td>\n",
       "      <td>0.99892</td>\n",
       "      <td>3.48</td>\n",
       "      <td>0.49</td>\n",
       "      <td>11.0</td>\n",
       "      <td>3</td>\n",
       "    </tr>\n",
       "  </tbody>\n",
       "</table>\n",
       "</div>"
      ],
      "text/plain": [
       "   fixed_acidity  volatile_acidity  citric_acid  residual_sugar  chlorides  \\\n",
       "0           11.6             0.580         0.66            2.20      0.074   \n",
       "1           10.4             0.610         0.49            2.10      0.200   \n",
       "2            7.4             1.185         0.00            4.25      0.097   \n",
       "3           10.4             0.440         0.42            1.50      0.145   \n",
       "4            8.3             1.020         0.02            3.40      0.084   \n",
       "\n",
       "   free_sulfur_dioxide  total_sulfur_dioxide  density    pH  sulphates  \\\n",
       "0                 10.0                  47.0  1.00080  3.25       0.57   \n",
       "1                  5.0                  16.0  0.99940  3.16       0.63   \n",
       "2                  5.0                  14.0  0.99660  3.63       0.54   \n",
       "3                 34.0                  48.0  0.99832  3.38       0.86   \n",
       "4                  6.0                  11.0  0.99892  3.48       0.49   \n",
       "\n",
       "   alcohol  quality  \n",
       "0      9.0        3  \n",
       "1      8.4        3  \n",
       "2     10.7        3  \n",
       "3      9.9        3  \n",
       "4     11.0        3  "
      ]
     },
     "execution_count": 2,
     "metadata": {},
     "output_type": "execute_result"
    }
   ],
   "source": [
    "df = pd.read_csv('./data/wine_data.csv')\n",
    "print(df.shape)\n",
    "df.head()"
   ]
  },
  {
   "cell_type": "code",
   "execution_count": 3,
   "metadata": {},
   "outputs": [
    {
     "data": {
      "text/html": [
       "<div>\n",
       "<style scoped>\n",
       "    .dataframe tbody tr th:only-of-type {\n",
       "        vertical-align: middle;\n",
       "    }\n",
       "\n",
       "    .dataframe tbody tr th {\n",
       "        vertical-align: top;\n",
       "    }\n",
       "\n",
       "    .dataframe thead th {\n",
       "        text-align: right;\n",
       "    }\n",
       "</style>\n",
       "<table border=\"1\" class=\"dataframe\">\n",
       "  <thead>\n",
       "    <tr style=\"text-align: right;\">\n",
       "      <th></th>\n",
       "      <th>fixed_acidity</th>\n",
       "      <th>volatile_acidity</th>\n",
       "      <th>citric_acid</th>\n",
       "      <th>residual_sugar</th>\n",
       "      <th>chlorides</th>\n",
       "      <th>free_sulfur_dioxide</th>\n",
       "      <th>total_sulfur_dioxide</th>\n",
       "      <th>density</th>\n",
       "      <th>pH</th>\n",
       "      <th>sulphates</th>\n",
       "      <th>alcohol</th>\n",
       "    </tr>\n",
       "  </thead>\n",
       "  <tbody>\n",
       "    <tr>\n",
       "      <th>0</th>\n",
       "      <td>11.6</td>\n",
       "      <td>0.580</td>\n",
       "      <td>0.66</td>\n",
       "      <td>2.20</td>\n",
       "      <td>0.074</td>\n",
       "      <td>10.0</td>\n",
       "      <td>47.0</td>\n",
       "      <td>1.00080</td>\n",
       "      <td>3.25</td>\n",
       "      <td>0.57</td>\n",
       "      <td>9.0</td>\n",
       "    </tr>\n",
       "    <tr>\n",
       "      <th>1</th>\n",
       "      <td>10.4</td>\n",
       "      <td>0.610</td>\n",
       "      <td>0.49</td>\n",
       "      <td>2.10</td>\n",
       "      <td>0.200</td>\n",
       "      <td>5.0</td>\n",
       "      <td>16.0</td>\n",
       "      <td>0.99940</td>\n",
       "      <td>3.16</td>\n",
       "      <td>0.63</td>\n",
       "      <td>8.4</td>\n",
       "    </tr>\n",
       "    <tr>\n",
       "      <th>2</th>\n",
       "      <td>7.4</td>\n",
       "      <td>1.185</td>\n",
       "      <td>0.00</td>\n",
       "      <td>4.25</td>\n",
       "      <td>0.097</td>\n",
       "      <td>5.0</td>\n",
       "      <td>14.0</td>\n",
       "      <td>0.99660</td>\n",
       "      <td>3.63</td>\n",
       "      <td>0.54</td>\n",
       "      <td>10.7</td>\n",
       "    </tr>\n",
       "    <tr>\n",
       "      <th>3</th>\n",
       "      <td>10.4</td>\n",
       "      <td>0.440</td>\n",
       "      <td>0.42</td>\n",
       "      <td>1.50</td>\n",
       "      <td>0.145</td>\n",
       "      <td>34.0</td>\n",
       "      <td>48.0</td>\n",
       "      <td>0.99832</td>\n",
       "      <td>3.38</td>\n",
       "      <td>0.86</td>\n",
       "      <td>9.9</td>\n",
       "    </tr>\n",
       "    <tr>\n",
       "      <th>4</th>\n",
       "      <td>8.3</td>\n",
       "      <td>1.020</td>\n",
       "      <td>0.02</td>\n",
       "      <td>3.40</td>\n",
       "      <td>0.084</td>\n",
       "      <td>6.0</td>\n",
       "      <td>11.0</td>\n",
       "      <td>0.99892</td>\n",
       "      <td>3.48</td>\n",
       "      <td>0.49</td>\n",
       "      <td>11.0</td>\n",
       "    </tr>\n",
       "  </tbody>\n",
       "</table>\n",
       "</div>"
      ],
      "text/plain": [
       "   fixed_acidity  volatile_acidity  citric_acid  residual_sugar  chlorides  \\\n",
       "0           11.6             0.580         0.66            2.20      0.074   \n",
       "1           10.4             0.610         0.49            2.10      0.200   \n",
       "2            7.4             1.185         0.00            4.25      0.097   \n",
       "3           10.4             0.440         0.42            1.50      0.145   \n",
       "4            8.3             1.020         0.02            3.40      0.084   \n",
       "\n",
       "   free_sulfur_dioxide  total_sulfur_dioxide  density    pH  sulphates  \\\n",
       "0                 10.0                  47.0  1.00080  3.25       0.57   \n",
       "1                  5.0                  16.0  0.99940  3.16       0.63   \n",
       "2                  5.0                  14.0  0.99660  3.63       0.54   \n",
       "3                 34.0                  48.0  0.99832  3.38       0.86   \n",
       "4                  6.0                  11.0  0.99892  3.48       0.49   \n",
       "\n",
       "   alcohol  \n",
       "0      9.0  \n",
       "1      8.4  \n",
       "2     10.7  \n",
       "3      9.9  \n",
       "4     11.0  "
      ]
     },
     "execution_count": 3,
     "metadata": {},
     "output_type": "execute_result"
    }
   ],
   "source": [
    "out = df['quality']\n",
    "inputs = df.drop(columns='quality')\n",
    "inputs.head()"
   ]
  },
  {
   "cell_type": "code",
   "execution_count": 4,
   "metadata": {},
   "outputs": [
    {
     "data": {
      "text/plain": [
       "array([[11.6  ,  0.58 ,  0.66 , ...,  3.25 ,  0.57 ,  9.   ],\n",
       "       [10.4  ,  0.61 ,  0.49 , ...,  3.16 ,  0.63 ,  8.4  ],\n",
       "       [ 7.4  ,  1.185,  0.   , ...,  3.63 ,  0.54 , 10.7  ],\n",
       "       ...,\n",
       "       [13.4  ,  0.46 ,  1.04 , ...,  2.89 ,  1.76 ,  9.3  ],\n",
       "       [ 6.6  ,  1.03 ,  1.09 , ...,  2.94 ,  1.54 , 12.9  ],\n",
       "       [ 9.3  ,  0.93 ,  1.32 , ...,  3.16 ,  1.42 , 13.   ]])"
      ]
     },
     "execution_count": 4,
     "metadata": {},
     "output_type": "execute_result"
    }
   ],
   "source": [
    "inputs = inputs.to_numpy()\n",
    "inputs"
   ]
  },
  {
   "cell_type": "code",
   "execution_count": 5,
   "metadata": {},
   "outputs": [
    {
     "data": {
      "text/plain": [
       "array([[3],\n",
       "       [3],\n",
       "       [3],\n",
       "       ...,\n",
       "       [9],\n",
       "       [9],\n",
       "       [9]])"
      ]
     },
     "execution_count": 5,
     "metadata": {},
     "output_type": "execute_result"
    }
   ],
   "source": [
    "out = out.to_numpy().reshape(-1,1)\n",
    "out"
   ]
  },
  {
   "cell_type": "code",
   "execution_count": 6,
   "metadata": {},
   "outputs": [
    {
     "data": {
      "text/plain": [
       "(21000, 1)"
      ]
     },
     "execution_count": 6,
     "metadata": {},
     "output_type": "execute_result"
    }
   ],
   "source": [
    "out.shape"
   ]
  },
  {
   "cell_type": "code",
   "execution_count": 7,
   "metadata": {},
   "outputs": [
    {
     "name": "stdout",
     "output_type": "stream",
     "text": [
      "x train: (16800, 11)\n",
      "x test: (2100, 11)\n",
      "y train: (16800, 1)\n",
      "y test: (2100, 1)\n",
      "x dev: (2100, 11)\n",
      "y dev: (2100, 1)\n"
     ]
    }
   ],
   "source": [
    "x_train, x_test, y_train, y_test = train_test_split(inputs, out, test_size=0.2, random_state=42)\n",
    "x_test, x_dev, y_test, y_dev = train_test_split(x_test, y_test, test_size=0.5, random_state=42)\n",
    "print(f'x train: {x_train.shape}')\n",
    "print(f'x test: {x_test.shape}')\n",
    "print(f'y train: {y_train.shape}')\n",
    "print(f'y test: {y_test.shape}')\n",
    "print(f'x dev: {x_dev.shape}')\n",
    "print(f'y dev: {y_dev.shape}')\n"
   ]
  },
  {
   "cell_type": "markdown",
   "metadata": {},
   "source": [
    "## normalizing inputs"
   ]
  },
  {
   "cell_type": "code",
   "execution_count": null,
   "metadata": {},
   "outputs": [
    {
     "name": "stdout",
     "output_type": "stream",
     "text": [
      "(16800, 11)\n",
      "(2100, 11)\n",
      "(2100, 11)\n"
     ]
    }
   ],
   "source": [
    "mean = x_train.mean(axis=0)\n",
    "std = x_train.std(axis=0)\n",
    "\n",
    "x_train_normalized = (x_train - mean)/std\n",
    "x_test_normalized = (x_test - mean)/std\n",
    "x_dev_normalized = (x_dev - mean)/std\n",
    "\n",
    "\n",
    "# since we store each example as a column so lets take the transposes\n",
    "x_train_normalized = x_train_normalized.Tz\n",
    "y_train = y_train.T\n",
    "print(x_train_normalized.shape)\n",
    "\n",
    "x_dev_normalized = x_dev_normalized.T\n",
    "y_dev = y_dev.T\n",
    "print(x_dev_normalized.shape)\n",
    "\n",
    "x_test_normalized = x_test_normalized.T\n",
    "y_test = y_test.T\n",
    "print(x_test_normalized.shape)\n"
   ]
  },
  {
   "cell_type": "code",
   "execution_count": 19,
   "metadata": {},
   "outputs": [],
   "source": [
    "from neural import Neural"
   ]
  },
  {
   "cell_type": "code",
   "execution_count": 20,
   "metadata": {},
   "outputs": [],
   "source": [
    "classifier = Neural(layers_sizes=[4,2,1], activations=['Leaky-ReLU', 'Leaky-ReLU', 'softmax'], cost='CCE')"
   ]
  },
  {
   "cell_type": "code",
   "execution_count": null,
   "metadata": {},
   "outputs": [],
   "source": []
  },
  {
   "cell_type": "code",
   "execution_count": 24,
   "metadata": {},
   "outputs": [
    {
     "name": "stdout",
     "output_type": "stream",
     "text": [
      "epoch 0: train cost 58.3810 | dev cost 46.0304 | eval 0.0000\n",
      "epoch 100: train cost 58.3810 | dev cost 46.0304 | eval 0.0000\n",
      "epoch 200: train cost 58.3810 | dev cost 46.0304 | eval 0.0000\n",
      "epoch 300: train cost 58.3810 | dev cost 46.0304 | eval 0.0000\n",
      "epoch 400: train cost 58.3810 | dev cost 46.0304 | eval 0.0000\n",
      "epoch 500: train cost 58.3810 | dev cost 46.0304 | eval 0.0000\n",
      "epoch 600: train cost 58.3810 | dev cost 46.0304 | eval 0.0000\n",
      "epoch 700: train cost 58.3810 | dev cost 46.0304 | eval 0.0000\n",
      "epoch 800: train cost 58.3810 | dev cost 46.0304 | eval 0.0000\n",
      "epoch 900: train cost 58.3810 | dev cost 46.0304 | eval 0.0000\n",
      "epoch 1000: train cost 58.3810 | dev cost 46.0304 | eval 0.0000\n",
      "epoch 1100: train cost 58.3810 | dev cost 46.0304 | eval 0.0000\n",
      "epoch 1200: train cost 58.3810 | dev cost 46.0304 | eval 0.0000\n",
      "epoch 1300: train cost 58.3810 | dev cost 46.0304 | eval 0.0000\n",
      "epoch 1400: train cost 58.3810 | dev cost 46.0304 | eval 0.0000\n",
      "epoch 1500: train cost 58.3810 | dev cost 46.0304 | eval 0.0000\n",
      "epoch 1600: train cost 58.3810 | dev cost 46.0304 | eval 0.0000\n",
      "epoch 1700: train cost 58.3810 | dev cost 46.0304 | eval 0.0000\n",
      "epoch 1800: train cost 58.3810 | dev cost 46.0304 | eval 0.0000\n",
      "epoch 1900: train cost 58.3810 | dev cost 46.0304 | eval 0.0000\n",
      "epoch 2000: train cost 58.3810 | dev cost 46.0304 | eval 0.0000\n",
      "epoch 2100: train cost 58.3810 | dev cost 46.0304 | eval 0.0000\n",
      "epoch 2200: train cost 58.3810 | dev cost 46.0304 | eval 0.0000\n",
      "epoch 2300: train cost 58.3810 | dev cost 46.0304 | eval 0.0000\n",
      "epoch 2400: train cost 58.3810 | dev cost 46.0304 | eval 0.0000\n",
      "epoch 2500: train cost 58.3810 | dev cost 46.0304 | eval 0.0000\n",
      "epoch 2600: train cost 58.3810 | dev cost 46.0304 | eval 0.0000\n",
      "epoch 2700: train cost 58.3809 | dev cost 46.0304 | eval 0.0000\n",
      "epoch 2800: train cost 58.3809 | dev cost 46.0304 | eval 0.0000\n",
      "epoch 2900: train cost 58.3809 | dev cost 46.0304 | eval 0.0000\n",
      "epoch 3000: train cost 58.3809 | dev cost 46.0304 | eval 0.0000\n",
      "epoch 3100: train cost 58.3809 | dev cost 46.0304 | eval 0.0000\n",
      "epoch 3200: train cost 58.3809 | dev cost 46.0304 | eval 0.0000\n",
      "epoch 3300: train cost 58.3809 | dev cost 46.0304 | eval 0.0000\n",
      "epoch 3400: train cost 58.3809 | dev cost 46.0304 | eval 0.0000\n",
      "epoch 3500: train cost 58.3809 | dev cost 46.0304 | eval 0.0000\n",
      "epoch 3600: train cost 58.3809 | dev cost 46.0304 | eval 0.0000\n",
      "epoch 3700: train cost 58.3809 | dev cost 46.0304 | eval 0.0000\n",
      "epoch 3800: train cost 58.3809 | dev cost 46.0304 | eval 0.0000\n",
      "epoch 3900: train cost 58.3809 | dev cost 46.0304 | eval 0.0000\n",
      "epoch 4000: train cost 58.3809 | dev cost 46.0304 | eval 0.0000\n",
      "epoch 4100: train cost 58.3809 | dev cost 46.0304 | eval 0.0000\n",
      "epoch 4200: train cost 58.3809 | dev cost 46.0304 | eval 0.0000\n",
      "epoch 4300: train cost 58.3809 | dev cost 46.0304 | eval 0.0000\n",
      "epoch 4400: train cost 58.3809 | dev cost 46.0304 | eval 0.0000\n",
      "epoch 4500: train cost 58.3809 | dev cost 46.0304 | eval 0.0000\n",
      "epoch 4600: train cost 58.3809 | dev cost 46.0304 | eval 0.0000\n",
      "epoch 4700: train cost 58.3809 | dev cost 46.0304 | eval 0.0000\n",
      "epoch 4800: train cost 58.3809 | dev cost 46.0304 | eval 0.0000\n",
      "epoch 4900: train cost 58.3809 | dev cost 46.0304 | eval 0.0000\n",
      "epoch 5000: train cost 58.3809 | dev cost 46.0304 | eval 0.0000\n",
      "epoch 5100: train cost 58.3809 | dev cost 46.0304 | eval 0.0000\n"
     ]
    },
    {
     "ename": "KeyboardInterrupt",
     "evalue": "",
     "output_type": "error",
     "traceback": [
      "\u001b[31m---------------------------------------------------------------------------\u001b[39m",
      "\u001b[31mKeyboardInterrupt\u001b[39m                         Traceback (most recent call last)",
      "\u001b[36mCell\u001b[39m\u001b[36m \u001b[39m\u001b[32mIn[24]\u001b[39m\u001b[32m, line 1\u001b[39m\n\u001b[32m----> \u001b[39m\u001b[32m1\u001b[39m J_hist, dev_hist = \u001b[43mclassifier\u001b[49m\u001b[43m.\u001b[49m\u001b[43mtrain\u001b[49m\u001b[43m(\u001b[49m\u001b[43mX_train\u001b[49m\u001b[43m=\u001b[49m\u001b[43mx_train_normalized\u001b[49m\u001b[43m,\u001b[49m\u001b[43m \u001b[49m\u001b[43mY_train\u001b[49m\u001b[43m=\u001b[49m\u001b[43my_train\u001b[49m\u001b[43m,\u001b[49m\u001b[43m \u001b[49m\u001b[43mX_dev\u001b[49m\u001b[43m=\u001b[49m\u001b[43mx_dev_normalized\u001b[49m\u001b[43m,\u001b[49m\u001b[43m \u001b[49m\u001b[43mY_dev\u001b[49m\u001b[43m=\u001b[49m\u001b[43my_dev\u001b[49m\u001b[43m,\u001b[49m\u001b[43m  \u001b[49m\u001b[43mepoch\u001b[49m\u001b[43m=\u001b[49m\u001b[32;43m50000\u001b[39;49m\u001b[43m,\u001b[49m\u001b[43m \u001b[49m\u001b[43mlearning_rate\u001b[49m\u001b[43m=\u001b[49m\u001b[32;43m1\u001b[39;49m\u001b[43m)\u001b[49m\n",
      "\u001b[36mFile \u001b[39m\u001b[32md:\\Python_works\\Neural\\Neural\\neural.py:110\u001b[39m, in \u001b[36mtrain\u001b[39m\u001b[34m(self, X_train, Y_train, epoch, learning_rate, X_dev, Y_dev)\u001b[39m\n\u001b[32m    106\u001b[39m     dev = \u001b[38;5;28;01mTrue\u001b[39;00m\n\u001b[32m    109\u001b[39m \u001b[38;5;28mself\u001b[39m.params = \u001b[38;5;28mself\u001b[39m.parameters(\u001b[38;5;28mself\u001b[39m.input_size)\n\u001b[32m--> \u001b[39m\u001b[32m110\u001b[39m J_hist = []\n\u001b[32m    111\u001b[39m dev_hist = []\n\u001b[32m    112\u001b[39m \u001b[38;5;28;01mfor\u001b[39;00m i \u001b[38;5;129;01min\u001b[39;00m \u001b[38;5;28mrange\u001b[39m(epoch):\n",
      "\u001b[36mFile \u001b[39m\u001b[32md:\\Python_works\\Neural\\Neural\\neural.py:84\u001b[39m, in \u001b[36mbackward\u001b[39m\u001b[34m(self, Y, pred, cache, alpha)\u001b[39m\n\u001b[32m     82\u001b[39m         g = np.where(Z>=\u001b[32m0\u001b[39m,\u001b[32m1\u001b[39m, \u001b[32m0\u001b[39m)\n\u001b[32m     83\u001b[39m     \u001b[38;5;28;01melif\u001b[39;00m \u001b[38;5;28mself\u001b[39m.acts[i] == \u001b[33m'\u001b[39m\u001b[33msigmoid\u001b[39m\u001b[33m'\u001b[39m:\n\u001b[32m---> \u001b[39m\u001b[32m84\u001b[39m         g = A*(\u001b[32m1\u001b[39m-A)\n\u001b[32m     85\u001b[39m     dZ = dA * g.astype(\u001b[38;5;28mint\u001b[39m)\n\u001b[32m     87\u001b[39m \u001b[38;5;66;03m# if loss_type == 'CCE':\u001b[39;00m\n\u001b[32m     88\u001b[39m \u001b[38;5;66;03m# derivatives[f'dz{i}'] = dZ\u001b[39;00m\n",
      "\u001b[31mKeyboardInterrupt\u001b[39m: "
     ]
    }
   ],
   "source": [
    "J_hist, dev_hist = classifier.train(X_train=x_train_normalized, Y_train=y_train, X_dev=x_dev_normalized, Y_dev=y_dev,  epoch=50000, learning_rate=1)"
   ]
  },
  {
   "cell_type": "code",
   "execution_count": 29,
   "metadata": {},
   "outputs": [
    {
     "data": {
      "text/plain": [
       "[<matplotlib.lines.Line2D at 0x238650e3bc0>]"
      ]
     },
     "execution_count": 29,
     "metadata": {},
     "output_type": "execute_result"
    },
    {
     "data": {
      "image/png": "[encoded data removed]",
      "text/plain": [
       "<Figure size 640x480 with 1 Axes>"
      ]
     },
     "metadata": {},
     "output_type": "display_data"
    }
   ],
   "source": [
    "plt.plot(np.arange(100000), J_hist)\n",
    "plt.plot(np.arange(100000), dev_hist)\n"
   ]
  },
  {
   "cell_type": "code",
   "execution_count": 30,
   "metadata": {},
   "outputs": [
    {
     "data": {
      "text/plain": [
       "np.float64(7.321428571428572)"
      ]
     },
     "execution_count": 30,
     "metadata": {},
     "output_type": "execute_result"
    }
   ],
   "source": [
    "evaluate = classifier.evaluate(x_test_normalized, y_test)\n",
    "evaluate"
   ]
  },
  {
   "cell_type": "code",
   "execution_count": 32,
   "metadata": {},
   "outputs": [
    {
     "data": {
      "image/png": "[encoded data removed]",
      "text/plain": [
       "<Figure size 640x480 with 1 Axes>"
      ]
     },
     "metadata": {},
     "output_type": "display_data"
    }
   ],
   "source": [
    "m = x_test_normalized.shape[0]\n",
    "# for i in range(m):\n",
    "pred = classifier.predict(x_test_normalized)\n",
    "plt.scatter(y_test, pred)\n",
    "plt.show()"
   ]
  },
  {
   "cell_type": "code",
   "execution_count": null,
   "metadata": {},
   "outputs": [],
   "source": []
  }
 ],
 "metadata": {
  "kernelspec": {
   "display_name": ".venv",
   "language": "python",
   "name": "python3"
  },
  "language_info": {
   "codemirror_mode": {
    "name": "ipython",
    "version": 3
   },
   "file_extension": ".py",
   "mimetype": "text/x-python",
   "name": "python",
   "nbconvert_exporter": "python",
   "pygments_lexer": "ipython3",
   "version": "3.12.9"
  }
 },
 "nbformat": 4,
 "nbformat_minor": 2
}
